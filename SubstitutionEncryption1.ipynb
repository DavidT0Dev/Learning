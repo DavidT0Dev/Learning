{
  "nbformat": 4,
  "nbformat_minor": 0,
  "metadata": {
    "colab": {
      "provenance": [],
      "authorship_tag": "ABX9TyOFQRapCJLVe72E6/2N8jYd",
      "include_colab_link": true
    },
    "kernelspec": {
      "name": "python3",
      "display_name": "Python 3"
    },
    "language_info": {
      "name": "python"
    }
  },
  "cells": [
    {
      "cell_type": "markdown",
      "metadata": {
        "id": "view-in-github",
        "colab_type": "text"
      },
      "source": [
        "<a href=\"https://colab.research.google.com/github/DavidT0Dev/Learning/blob/main/SubstitutionEncryption1.ipynb\" target=\"_parent\"><img src=\"https://colab.research.google.com/assets/colab-badge.svg\" alt=\"Open In Colab\"/></a>"
      ]
    },
    {
      "cell_type": "markdown",
      "source": [
        "Substitituion encryption:\n",
        "\n",
        "We change some characters for others in a phrase, then we use the key to decrypt it\n",
        "\n",
        "the target characters are chosen at random\n",
        "\n",
        "knowing these the message can be decrypted"
      ],
      "metadata": {
        "id": "8lcSLU6kWDtK"
      }
    },
    {
      "cell_type": "code",
      "execution_count": null,
      "metadata": {
        "id": "H2d9CBUeU8oS"
      },
      "outputs": [],
      "source": [
        "import random\n",
        "import string #Utilities for working with strings"
      ]
    },
    {
      "cell_type": "code",
      "source": [
        "chars = \" \" + string.punctuation + string.digits + string.ascii_letters #All the characters we'll support. We don't use whitespaces from string to avoid warped text by carridge returns\n",
        "print(chars)"
      ],
      "metadata": {
        "colab": {
          "base_uri": "https://localhost:8080/"
        },
        "id": "-s6gjUivWjLw",
        "outputId": "f891f4f6-7bcc-4109-c266-b88ccd8478f3"
      },
      "execution_count": null,
      "outputs": [
        {
          "output_type": "stream",
          "name": "stdout",
          "text": [
            " !\"#$%&'()*+,-./:;<=>?@[\\]^_`{|}~0123456789abcdefghijklmnopqrstuvwxyzABCDEFGHIJKLMNOPQRSTUVWXYZ\n"
          ]
        }
      ]
    },
    {
      "cell_type": "code",
      "source": [
        "# We transform the string into a list\n",
        "chars = list(chars) # Typecast to make a string a list of characters\n",
        "key = chars.copy() # we copy into the key, i. e. the target characters, and we will shuffle it later.\n",
        "\n",
        "print(f\"chars: {chars}\")\n",
        "print(f\"key: {key}\")"
      ],
      "metadata": {
        "colab": {
          "base_uri": "https://localhost:8080/"
        },
        "id": "OVX0oYeqW1mg",
        "outputId": "c8c1d312-dc46-4dd8-d54c-35fe0c994fb5"
      },
      "execution_count": null,
      "outputs": [
        {
          "output_type": "stream",
          "name": "stdout",
          "text": [
            "chars: [' ', '!', '\"', '#', '$', '%', '&', \"'\", '(', ')', '*', '+', ',', '-', '.', '/', ':', ';', '<', '=', '>', '?', '@', '[', '\\\\', ']', '^', '_', '`', '{', '|', '}', '~', '0', '1', '2', '3', '4', '5', '6', '7', '8', '9', 'a', 'b', 'c', 'd', 'e', 'f', 'g', 'h', 'i', 'j', 'k', 'l', 'm', 'n', 'o', 'p', 'q', 'r', 's', 't', 'u', 'v', 'w', 'x', 'y', 'z', 'A', 'B', 'C', 'D', 'E', 'F', 'G', 'H', 'I', 'J', 'K', 'L', 'M', 'N', 'O', 'P', 'Q', 'R', 'S', 'T', 'U', 'V', 'W', 'X', 'Y', 'Z']\n",
            "key: [' ', '!', '\"', '#', '$', '%', '&', \"'\", '(', ')', '*', '+', ',', '-', '.', '/', ':', ';', '<', '=', '>', '?', '@', '[', '\\\\', ']', '^', '_', '`', '{', '|', '}', '~', '0', '1', '2', '3', '4', '5', '6', '7', '8', '9', 'a', 'b', 'c', 'd', 'e', 'f', 'g', 'h', 'i', 'j', 'k', 'l', 'm', 'n', 'o', 'p', 'q', 'r', 's', 't', 'u', 'v', 'w', 'x', 'y', 'z', 'A', 'B', 'C', 'D', 'E', 'F', 'G', 'H', 'I', 'J', 'K', 'L', 'M', 'N', 'O', 'P', 'Q', 'R', 'S', 'T', 'U', 'V', 'W', 'X', 'Y', 'Z']\n"
          ]
        }
      ]
    },
    {
      "cell_type": "code",
      "source": [
        "#Now we shuffle the key\n",
        "\n",
        "random.shuffle(key)\n",
        "\n",
        "print(f\"chars: {chars}\") # Original\n",
        "print(f\"key: {key}\") # shuffled"
      ],
      "metadata": {
        "colab": {
          "base_uri": "https://localhost:8080/"
        },
        "id": "y5IEy-gFZQ31",
        "outputId": "08d047c1-99e5-4ea3-db8f-8a3aa6111776"
      },
      "execution_count": null,
      "outputs": [
        {
          "output_type": "stream",
          "name": "stdout",
          "text": [
            "chars: [' ', '!', '\"', '#', '$', '%', '&', \"'\", '(', ')', '*', '+', ',', '-', '.', '/', ':', ';', '<', '=', '>', '?', '@', '[', '\\\\', ']', '^', '_', '`', '{', '|', '}', '~', '0', '1', '2', '3', '4', '5', '6', '7', '8', '9', 'a', 'b', 'c', 'd', 'e', 'f', 'g', 'h', 'i', 'j', 'k', 'l', 'm', 'n', 'o', 'p', 'q', 'r', 's', 't', 'u', 'v', 'w', 'x', 'y', 'z', 'A', 'B', 'C', 'D', 'E', 'F', 'G', 'H', 'I', 'J', 'K', 'L', 'M', 'N', 'O', 'P', 'Q', 'R', 'S', 'T', 'U', 'V', 'W', 'X', 'Y', 'Z']\n",
            "key: ['f', 'B', 'y', 'W', 'e', 'M', '5', 'w', 'u', 'p', ';', 'J', 'a', '!', \"'\", 'j', '$', 'K', 'D', '%', '*', '.', '0', '/', 'r', 'F', '&', 'H', '4', '?', 'd', '-', 's', '}', 'i', '+', 'Z', '2', 'A', '6', 'L', 'Q', ' ', '8', '7', 'l', '@', 'c', 'I', '(', '`', 'q', 'o', 'g', '9', 'n', 'z', 'Y', 'S', '=', ',', '<', '3', '\\\\', '~', '1', '|', 'x', 'V', '[', 'G', ']', '>', 'b', 'U', ')', 'P', '#', 'k', 'O', '^', 'N', 'h', 'v', '_', ':', 'X', 'T', 'm', '{', 't', 'E', '\"', 'C', 'R']\n"
          ]
        }
      ]
    },
    {
      "cell_type": "code",
      "source": [
        "#ENCRYPTION\n",
        "\n",
        "plain_text = input(\"Enter a message to encrypt: \") # we ask for the original message\n",
        "cipher_text = \"\" # Empty for now"
      ],
      "metadata": {
        "colab": {
          "base_uri": "https://localhost:8080/"
        },
        "id": "_m-4ftEsZgjb",
        "outputId": "2ea8aaa2-19c3-45f5-ce07-a50bea7390d1"
      },
      "execution_count": null,
      "outputs": [
        {
          "name": "stdout",
          "output_type": "stream",
          "text": [
            "Enter a message to encrypt: I like pizza!\n"
          ]
        }
      ]
    },
    {
      "cell_type": "code",
      "source": [
        "cipher_text = \"\" # We empty it again in case you want to run this cell multiple times\n",
        "\n",
        "for letter in plain_text:\n",
        "  index = chars.index(letter)\n",
        "  cipher_text += key[index]\n",
        "\n",
        "print(f\"original message:  {plain_text}\")\n",
        "print(f\"encrypted message: {cipher_text}\")"
      ],
      "metadata": {
        "id": "lElgk4XCZ32s",
        "colab": {
          "base_uri": "https://localhost:8080/"
        },
        "outputId": "66a6535b-437b-4a54-b74f-101804314ba6"
      },
      "execution_count": null,
      "outputs": [
        {
          "output_type": "stream",
          "name": "stdout",
          "text": [
            "original message:  I like pizza!\n",
            "encrypted message: #f9qgcfSqVV8B\n"
          ]
        }
      ]
    }
  ]
}