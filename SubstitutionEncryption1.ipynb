{
  "nbformat": 4,
  "nbformat_minor": 0,
  "metadata": {
    "colab": {
      "provenance": [],
      "authorship_tag": "ABX9TyMuR10y75ZGE02iixbH4MlI",
      "include_colab_link": true
    },
    "kernelspec": {
      "name": "python3",
      "display_name": "Python 3"
    },
    "language_info": {
      "name": "python"
    }
  },
  "cells": [
    {
      "cell_type": "markdown",
      "metadata": {
        "id": "view-in-github",
        "colab_type": "text"
      },
      "source": [
        "<a href=\"https://colab.research.google.com/github/DavidT0Dev/Learning/blob/main/SubstitutionEncryption1.ipynb\" target=\"_parent\"><img src=\"https://colab.research.google.com/assets/colab-badge.svg\" alt=\"Open In Colab\"/></a>"
      ]
    },
    {
      "cell_type": "markdown",
      "source": [
        "Substitituion encryption:\n",
        "\n",
        "We change some characters for others in a phrase, then we use the key to decrypt it\n",
        "\n",
        "the target characters are chosen at random\n",
        "\n",
        "knowing these the message can be decrypted"
      ],
      "metadata": {
        "id": "8lcSLU6kWDtK"
      }
    },
    {
      "cell_type": "code",
      "execution_count": 1,
      "metadata": {
        "id": "H2d9CBUeU8oS"
      },
      "outputs": [],
      "source": [
        "import random\n",
        "import string #Utilities for working with strings"
      ]
    },
    {
      "cell_type": "code",
      "source": [
        "chars = \" \" + string.punctuation + string.digits + string.ascii_letters #All the characters we'll support. We don't use whitespaces from string to avoid warped text by carridge returns\n",
        "print(chars)"
      ],
      "metadata": {
        "colab": {
          "base_uri": "https://localhost:8080/"
        },
        "id": "-s6gjUivWjLw",
        "outputId": "3558b199-9be4-4bda-9f51-eaedca25b8b3"
      },
      "execution_count": 2,
      "outputs": [
        {
          "output_type": "stream",
          "name": "stdout",
          "text": [
            " !\"#$%&'()*+,-./:;<=>?@[\\]^_`{|}~0123456789abcdefghijklmnopqrstuvwxyzABCDEFGHIJKLMNOPQRSTUVWXYZ\n"
          ]
        }
      ]
    },
    {
      "cell_type": "code",
      "source": [
        "# We transform the string into a list\n",
        "chars = list(chars) # Typecast to make a string a list of characters\n",
        "key = chars.copy() # we copy into the key, i. e. the target characters, and we will shuffle it later.\n",
        "\n",
        "print(f\"chars: {chars}\")\n",
        "print(f\"key: {key}\")"
      ],
      "metadata": {
        "colab": {
          "base_uri": "https://localhost:8080/"
        },
        "id": "OVX0oYeqW1mg",
        "outputId": "55753513-9edb-4746-9e61-3d00280a9978"
      },
      "execution_count": 3,
      "outputs": [
        {
          "output_type": "stream",
          "name": "stdout",
          "text": [
            "chars: [' ', '!', '\"', '#', '$', '%', '&', \"'\", '(', ')', '*', '+', ',', '-', '.', '/', ':', ';', '<', '=', '>', '?', '@', '[', '\\\\', ']', '^', '_', '`', '{', '|', '}', '~', '0', '1', '2', '3', '4', '5', '6', '7', '8', '9', 'a', 'b', 'c', 'd', 'e', 'f', 'g', 'h', 'i', 'j', 'k', 'l', 'm', 'n', 'o', 'p', 'q', 'r', 's', 't', 'u', 'v', 'w', 'x', 'y', 'z', 'A', 'B', 'C', 'D', 'E', 'F', 'G', 'H', 'I', 'J', 'K', 'L', 'M', 'N', 'O', 'P', 'Q', 'R', 'S', 'T', 'U', 'V', 'W', 'X', 'Y', 'Z']\n",
            "key: [' ', '!', '\"', '#', '$', '%', '&', \"'\", '(', ')', '*', '+', ',', '-', '.', '/', ':', ';', '<', '=', '>', '?', '@', '[', '\\\\', ']', '^', '_', '`', '{', '|', '}', '~', '0', '1', '2', '3', '4', '5', '6', '7', '8', '9', 'a', 'b', 'c', 'd', 'e', 'f', 'g', 'h', 'i', 'j', 'k', 'l', 'm', 'n', 'o', 'p', 'q', 'r', 's', 't', 'u', 'v', 'w', 'x', 'y', 'z', 'A', 'B', 'C', 'D', 'E', 'F', 'G', 'H', 'I', 'J', 'K', 'L', 'M', 'N', 'O', 'P', 'Q', 'R', 'S', 'T', 'U', 'V', 'W', 'X', 'Y', 'Z']\n"
          ]
        }
      ]
    },
    {
      "cell_type": "code",
      "source": [
        "#Now we shuffle the key\n",
        "\n",
        "random.shuffle(key)\n",
        "\n",
        "print(f\"chars: {chars}\") # Original\n",
        "print(f\"key: {key}\") # shuffled"
      ],
      "metadata": {
        "colab": {
          "base_uri": "https://localhost:8080/"
        },
        "id": "y5IEy-gFZQ31",
        "outputId": "50c41199-54ef-4c10-a7a5-652f6e706db7"
      },
      "execution_count": 4,
      "outputs": [
        {
          "output_type": "stream",
          "name": "stdout",
          "text": [
            "chars: [' ', '!', '\"', '#', '$', '%', '&', \"'\", '(', ')', '*', '+', ',', '-', '.', '/', ':', ';', '<', '=', '>', '?', '@', '[', '\\\\', ']', '^', '_', '`', '{', '|', '}', '~', '0', '1', '2', '3', '4', '5', '6', '7', '8', '9', 'a', 'b', 'c', 'd', 'e', 'f', 'g', 'h', 'i', 'j', 'k', 'l', 'm', 'n', 'o', 'p', 'q', 'r', 's', 't', 'u', 'v', 'w', 'x', 'y', 'z', 'A', 'B', 'C', 'D', 'E', 'F', 'G', 'H', 'I', 'J', 'K', 'L', 'M', 'N', 'O', 'P', 'Q', 'R', 'S', 'T', 'U', 'V', 'W', 'X', 'Y', 'Z']\n",
            "key: ['{', ',', 'N', 'k', 'n', '7', '<', 't', 'G', '3', '2', '\\\\', '(', 'L', 'f', 'T', '#', 'Y', 'x', 'p', ';', '/', '-', '4', '9', 'J', 'l', 'q', 'Q', 'E', 'B', '~', 'M', 'H', '8', 'g', '1', 'F', ')', 'j', '&', 'b', 'c', '6', '`', '!', 'v', '*', 'o', ' ', 'd', '_', 'P', 'r', ':', 'z', '5', 'X', '$', '.', ']', 'a', '}', 'O', 'R', '[', 'V', \"'\", 'U', 'S', 'w', 'C', 'y', '\"', 'D', 'I', 'i', '>', 's', 'Z', 'K', '^', 'A', 'W', 'e', '0', '%', '?', 'u', '|', 'h', '=', '+', '@', 'm']\n"
          ]
        }
      ]
    },
    {
      "cell_type": "code",
      "source": [
        "#ENCRYPTION\n",
        "\n",
        "plain_text = input(\"Enter a message to encrypt: \") # we ask for the original message\n",
        "cipher_text = \"\" # Empty for now"
      ],
      "metadata": {
        "colab": {
          "base_uri": "https://localhost:8080/"
        },
        "id": "_m-4ftEsZgjb",
        "outputId": "43012e00-7767-4db1-ed29-abc2f9d92980"
      },
      "execution_count": 5,
      "outputs": [
        {
          "name": "stdout",
          "output_type": "stream",
          "text": [
            "Enter a message to encrypt: I like pizza!\n"
          ]
        }
      ]
    },
    {
      "cell_type": "code",
      "source": [
        "cipher_text = \"\" # We empty it again in case you want to run this cell multiple times\n",
        "\n",
        "\n",
        "for letter in plain_text: # We go over every character in the message\n",
        "  index = chars.index(letter) #find it's position in the character list\n",
        "  cipher_text += key[index] # and use the position to find the equivalent key character\n",
        "\n",
        "print(f\"original message:  {plain_text}\")\n",
        "print(f\"encrypted message: {cipher_text}\")"
      ],
      "metadata": {
        "id": "lElgk4XCZ32s",
        "colab": {
          "base_uri": "https://localhost:8080/"
        },
        "outputId": "a2d4d5af-bc39-447b-835d-e22da54000d0"
      },
      "execution_count": 6,
      "outputs": [
        {
          "output_type": "stream",
          "name": "stdout",
          "text": [
            "original message:  I like pizza!\n",
            "encrypted message: >{:_r*{$_UU6,\n"
          ]
        }
      ]
    },
    {
      "cell_type": "code",
      "source": [
        "#DECRYPTION\n",
        "\n",
        "cipher_text2 = input(\"Enter a message to encrypt: \") # we ask for the encrypted message\n",
        "plain_text2 = \"\" # Empty for now"
      ],
      "metadata": {
        "colab": {
          "base_uri": "https://localhost:8080/"
        },
        "id": "gcbia_1UIvFp",
        "outputId": "70b9ea72-917b-4cc9-87b0-c029b07c3c5d"
      },
      "execution_count": 7,
      "outputs": [
        {
          "name": "stdout",
          "output_type": "stream",
          "text": [
            "Enter a message to encrypt: >{:_r*{$_UU6,\n"
          ]
        }
      ]
    },
    {
      "cell_type": "code",
      "source": [
        "for letter in cipher_text2: # we do the same as we did for encrypting, but backwards\n",
        "  index = key.index(letter)\n",
        "  plain_text2 += chars[index]\n",
        "\n",
        "print(f\"encrypted message: {cipher_text2}\")\n",
        "print(f\"original message:  {plain_text2}\")"
      ],
      "metadata": {
        "colab": {
          "base_uri": "https://localhost:8080/"
        },
        "id": "UGerpAluI765",
        "outputId": "4fd5d9fd-d88b-4a83-99fd-6a711847b020"
      },
      "execution_count": 8,
      "outputs": [
        {
          "output_type": "stream",
          "name": "stdout",
          "text": [
            "encrypted message: >{:_r*{$_UU6,\n",
            "original message:  I like pizza!\n"
          ]
        }
      ]
    }
  ]
}